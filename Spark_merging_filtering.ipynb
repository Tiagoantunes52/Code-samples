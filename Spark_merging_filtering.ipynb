{
 "cells": [
  {
   "cell_type": "markdown",
   "metadata": {},
   "source": [
    "### MERGING AND FILTERING .TXT FILES USING SPARK"
   ]
  },
  {
   "cell_type": "code",
   "execution_count": null,
   "metadata": {},
   "outputs": [],
   "source": [
    "sqlContext = SQLContext(sc)\n",
    "import pandas as pd\n",
    "import os\n",
    "import matplotlib\n",
    "matplotlib.use('Agg') \n",
    "import seaborn as sns\n",
    "%matplotlib inline\n",
    "from pyspark.sql.types import *\n",
    "\n",
    "i=0\n",
    "list_files = []\n",
    "schema = StructType([])\n",
    "df1 = sqlContext.createDataFrame(sc.emptyRDD(), schema)\n",
    "df1_ocurrences = sqlContext.createDataFrame(sc.emptyRDD(), schema)\n",
    "df1_count = sqlContext.createDataFrame(sc.emptyRDD(), schema)\n",
    "df1_merged = sqlContext.createDataFrame(sc.emptyRDD(), schema)\n",
    "df1_complete = sqlContext.createDataFrame(sc.emptyRDD(), schema)\n",
    "\n",
    "sc.setCheckpointDir('/resources/data/checkpoints/')\n",
    "\n",
    "def map_func (dados):\n",
    "\n",
    "    \n",
    "    df1 = sqlContext.read.format(\"com.databricks.spark.csv\").option(\"header\", \"true\").option(\"inferSchema\", \"true\").load(\"/resources/data/\" + dados + \".csv\")\n",
    "    \n",
    "    df1.rdd.checkpoint()\n",
    "    \n",
    "    # AGGREGATION\n",
    "    df1 = df1.withColumn(\"Interval\", ((df1.Timestamp.cast(\"long\") / 1).cast(\"long\") * 1).cast(\"timestamp\")) \n",
    "    # COUNT 1s\n",
    "    df1_ocurrences = df1.groupBy(\"Interval\").sum(\"Bit_value\")\n",
    "    df1_ocurrences = df1_ocurrences.withColumnRenamed(\"sum(Bit_value)\", \"Sum_df1\")\n",
    "    # COUNT TOTAL\n",
    "    df1_count = df1.groupBy(\"Interval\").count()\n",
    "    df1_count = df1_count.withColumnRenamed(\"count\", \"Total_df1\")\n",
    "    # MERGING\n",
    "    df1_merged = df1_ocurrences.join(df1_count, [\"Interval\"])\n",
    "\n",
    "    df1_complete = df1_merged.withColumn(str(dados), df1_merged.Sum_df1 / df1_merged.Total_df1)\n",
    "    df1_complete = df1_complete.drop('Sum_df1')\n",
    "    df1_complete = df1_complete.drop('Total_df1')\n",
    "    \n",
    "    df1_complete.rdd.checkpoint()\n",
    "    df1_complete = sqlContext.createDataFrame(df1_complete.rdd, df1_complete.schema)\n",
    "    \n",
    "    return df1_complete\n",
    "\n",
    "def joining(df1, df2):\n",
    "#     df1.rdd.checkpoint()\n",
    "\n",
    "    df1 = df1.join(df2,['Interval']) \n",
    "\n",
    "    return df1\n",
    "\n",
    "\n",
    "for file in os.listdir('/resources/data/'):\n",
    "    var_name = file.split(\".\")[0]\n",
    "    \n",
    "    list_files.append(var_name)\n",
    "\n",
    "#range = list_files\n",
    "dataframes = map(lambda r: map_func(r) ,list_files)\n",
    "print ('Mapper complete')\n",
    "\n",
    "#data = reduce(lambda a, b: a.join(b,['Interval']),dataframes)\n",
    "data = reduce(lambda a, b: joining(a,b), dataframes)\n",
    "print('Reducer complete')"
   ]
  }
 ],
 "metadata": {
  "kernelspec": {
   "display_name": "Python 3",
   "language": "python",
   "name": "python3"
  },
  "language_info": {
   "codemirror_mode": {
    "name": "ipython",
    "version": 3
   },
   "file_extension": ".py",
   "mimetype": "text/x-python",
   "name": "python",
   "nbconvert_exporter": "python",
   "pygments_lexer": "ipython3",
   "version": "3.6.5"
  }
 },
 "nbformat": 4,
 "nbformat_minor": 2
}
